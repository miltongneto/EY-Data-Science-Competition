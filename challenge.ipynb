{
 "cells": [
  {
   "cell_type": "markdown",
   "metadata": {},
   "source": [
    "## EY Data Science Challenge"
   ]
  },
  {
   "cell_type": "code",
   "execution_count": 1,
   "metadata": {},
   "outputs": [],
   "source": [
    "import pandas as pd\n",
    "import numpy as np\n",
    "import geopandas as gpd\n",
    "import datetime\n",
    "\n",
    "from shapely.geometry import Point, Polygon\n",
    "from shapely.geometry import LineString\n",
    "from shapely.ops import nearest_points\n",
    "\n",
    "import matplotlib as mpl\n",
    "import matplotlib.pyplot as plt\n",
    "mpl.style.use('seaborn')\n",
    "\n",
    "from sklearn.model_selection import train_test_split\n",
    "from sklearn.metrics import f1_score, accuracy_score\n",
    "from sklearn.preprocessing import OneHotEncoder, LabelEncoder\n",
    "from sklearn.ensemble import RandomForestClassifier, GradientBoostingClassifier"
   ]
  },
  {
   "cell_type": "markdown",
   "metadata": {},
   "source": [
    "### Load data"
   ]
  },
  {
   "cell_type": "code",
   "execution_count": 2,
   "metadata": {},
   "outputs": [],
   "source": [
    "df_train = pd.read_csv('data_train.csv', index_col=0)"
   ]
  },
  {
   "cell_type": "code",
   "execution_count": 3,
   "metadata": {},
   "outputs": [
    {
     "name": "stdout",
     "output_type": "stream",
     "text": [
      "Shape:  (814262, 11)\n"
     ]
    },
    {
     "data": {
      "text/html": [
       "<div>\n",
       "<style scoped>\n",
       "    .dataframe tbody tr th:only-of-type {\n",
       "        vertical-align: middle;\n",
       "    }\n",
       "\n",
       "    .dataframe tbody tr th {\n",
       "        vertical-align: top;\n",
       "    }\n",
       "\n",
       "    .dataframe thead th {\n",
       "        text-align: right;\n",
       "    }\n",
       "</style>\n",
       "<table border=\"1\" class=\"dataframe\">\n",
       "  <thead>\n",
       "    <tr style=\"text-align: right;\">\n",
       "      <th></th>\n",
       "      <th>hash</th>\n",
       "      <th>trajectory_id</th>\n",
       "      <th>time_entry</th>\n",
       "      <th>time_exit</th>\n",
       "      <th>vmax</th>\n",
       "      <th>vmin</th>\n",
       "      <th>vmean</th>\n",
       "      <th>x_entry</th>\n",
       "      <th>y_entry</th>\n",
       "      <th>x_exit</th>\n",
       "      <th>y_exit</th>\n",
       "    </tr>\n",
       "  </thead>\n",
       "  <tbody>\n",
       "    <tr>\n",
       "      <th>0</th>\n",
       "      <td>0000a8602cf2def930488dee7cdad104_1</td>\n",
       "      <td>traj_0000a8602cf2def930488dee7cdad104_1_0</td>\n",
       "      <td>07:04:31</td>\n",
       "      <td>07:08:32</td>\n",
       "      <td>NaN</td>\n",
       "      <td>NaN</td>\n",
       "      <td>NaN</td>\n",
       "      <td>3.751014e+06</td>\n",
       "      <td>-1.909398e+07</td>\n",
       "      <td>3.750326e+06</td>\n",
       "      <td>-1.913634e+07</td>\n",
       "    </tr>\n",
       "    <tr>\n",
       "      <th>1</th>\n",
       "      <td>0000a8602cf2def930488dee7cdad104_1</td>\n",
       "      <td>traj_0000a8602cf2def930488dee7cdad104_1_1</td>\n",
       "      <td>07:20:34</td>\n",
       "      <td>07:25:42</td>\n",
       "      <td>NaN</td>\n",
       "      <td>NaN</td>\n",
       "      <td>NaN</td>\n",
       "      <td>3.743937e+06</td>\n",
       "      <td>-1.932247e+07</td>\n",
       "      <td>3.744975e+06</td>\n",
       "      <td>-1.931966e+07</td>\n",
       "    </tr>\n",
       "    <tr>\n",
       "      <th>2</th>\n",
       "      <td>0000a8602cf2def930488dee7cdad104_1</td>\n",
       "      <td>traj_0000a8602cf2def930488dee7cdad104_1_2</td>\n",
       "      <td>07:53:32</td>\n",
       "      <td>08:03:25</td>\n",
       "      <td>NaN</td>\n",
       "      <td>NaN</td>\n",
       "      <td>NaN</td>\n",
       "      <td>3.744868e+06</td>\n",
       "      <td>-1.929356e+07</td>\n",
       "      <td>3.744816e+06</td>\n",
       "      <td>-1.929284e+07</td>\n",
       "    </tr>\n",
       "    <tr>\n",
       "      <th>3</th>\n",
       "      <td>0000a8602cf2def930488dee7cdad104_1</td>\n",
       "      <td>traj_0000a8602cf2def930488dee7cdad104_1_3</td>\n",
       "      <td>08:17:50</td>\n",
       "      <td>08:37:23</td>\n",
       "      <td>NaN</td>\n",
       "      <td>NaN</td>\n",
       "      <td>NaN</td>\n",
       "      <td>3.744880e+06</td>\n",
       "      <td>-1.929229e+07</td>\n",
       "      <td>3.744809e+06</td>\n",
       "      <td>-1.929049e+07</td>\n",
       "    </tr>\n",
       "    <tr>\n",
       "      <th>4</th>\n",
       "      <td>0000a8602cf2def930488dee7cdad104_1</td>\n",
       "      <td>traj_0000a8602cf2def930488dee7cdad104_1_4</td>\n",
       "      <td>14:38:09</td>\n",
       "      <td>14:38:09</td>\n",
       "      <td>NaN</td>\n",
       "      <td>NaN</td>\n",
       "      <td>NaN</td>\n",
       "      <td>3.744909e+06</td>\n",
       "      <td>-1.928558e+07</td>\n",
       "      <td>3.744909e+06</td>\n",
       "      <td>-1.928558e+07</td>\n",
       "    </tr>\n",
       "  </tbody>\n",
       "</table>\n",
       "</div>"
      ],
      "text/plain": [
       "                                 hash  \\\n",
       "0  0000a8602cf2def930488dee7cdad104_1   \n",
       "1  0000a8602cf2def930488dee7cdad104_1   \n",
       "2  0000a8602cf2def930488dee7cdad104_1   \n",
       "3  0000a8602cf2def930488dee7cdad104_1   \n",
       "4  0000a8602cf2def930488dee7cdad104_1   \n",
       "\n",
       "                               trajectory_id time_entry time_exit  vmax  vmin  \\\n",
       "0  traj_0000a8602cf2def930488dee7cdad104_1_0   07:04:31  07:08:32   NaN   NaN   \n",
       "1  traj_0000a8602cf2def930488dee7cdad104_1_1   07:20:34  07:25:42   NaN   NaN   \n",
       "2  traj_0000a8602cf2def930488dee7cdad104_1_2   07:53:32  08:03:25   NaN   NaN   \n",
       "3  traj_0000a8602cf2def930488dee7cdad104_1_3   08:17:50  08:37:23   NaN   NaN   \n",
       "4  traj_0000a8602cf2def930488dee7cdad104_1_4   14:38:09  14:38:09   NaN   NaN   \n",
       "\n",
       "   vmean       x_entry       y_entry        x_exit        y_exit  \n",
       "0    NaN  3.751014e+06 -1.909398e+07  3.750326e+06 -1.913634e+07  \n",
       "1    NaN  3.743937e+06 -1.932247e+07  3.744975e+06 -1.931966e+07  \n",
       "2    NaN  3.744868e+06 -1.929356e+07  3.744816e+06 -1.929284e+07  \n",
       "3    NaN  3.744880e+06 -1.929229e+07  3.744809e+06 -1.929049e+07  \n",
       "4    NaN  3.744909e+06 -1.928558e+07  3.744909e+06 -1.928558e+07  "
      ]
     },
     "execution_count": 3,
     "metadata": {},
     "output_type": "execute_result"
    }
   ],
   "source": [
    "print('Shape: ', df_train.shape)\n",
    "df_train.head()"
   ]
  },
  {
   "cell_type": "markdown",
   "metadata": {},
   "source": [
    "### Data Analysis"
   ]
  },
  {
   "cell_type": "markdown",
   "metadata": {},
   "source": [
    "Statistics"
   ]
  },
  {
   "cell_type": "code",
   "execution_count": 4,
   "metadata": {},
   "outputs": [
    {
     "data": {
      "text/html": [
       "<div>\n",
       "<style scoped>\n",
       "    .dataframe tbody tr th:only-of-type {\n",
       "        vertical-align: middle;\n",
       "    }\n",
       "\n",
       "    .dataframe tbody tr th {\n",
       "        vertical-align: top;\n",
       "    }\n",
       "\n",
       "    .dataframe thead th {\n",
       "        text-align: right;\n",
       "    }\n",
       "</style>\n",
       "<table border=\"1\" class=\"dataframe\">\n",
       "  <thead>\n",
       "    <tr style=\"text-align: right;\">\n",
       "      <th></th>\n",
       "      <th>vmax</th>\n",
       "      <th>vmin</th>\n",
       "      <th>vmean</th>\n",
       "      <th>x_entry</th>\n",
       "      <th>y_entry</th>\n",
       "      <th>x_exit</th>\n",
       "      <th>y_exit</th>\n",
       "    </tr>\n",
       "  </thead>\n",
       "  <tbody>\n",
       "    <tr>\n",
       "      <th>count</th>\n",
       "      <td>256769.000000</td>\n",
       "      <td>256769.000000</td>\n",
       "      <td>270778.000000</td>\n",
       "      <td>8.142620e+05</td>\n",
       "      <td>8.142620e+05</td>\n",
       "      <td>8.142620e+05</td>\n",
       "      <td>8.142620e+05</td>\n",
       "    </tr>\n",
       "    <tr>\n",
       "      <th>mean</th>\n",
       "      <td>2.680249</td>\n",
       "      <td>2.279469</td>\n",
       "      <td>2.454799</td>\n",
       "      <td>3.760411e+06</td>\n",
       "      <td>-1.922153e+07</td>\n",
       "      <td>3.760426e+06</td>\n",
       "      <td>-1.922181e+07</td>\n",
       "    </tr>\n",
       "    <tr>\n",
       "      <th>std</th>\n",
       "      <td>7.591053</td>\n",
       "      <td>7.118452</td>\n",
       "      <td>7.160578</td>\n",
       "      <td>8.974393e+03</td>\n",
       "      <td>7.632234e+04</td>\n",
       "      <td>8.904451e+03</td>\n",
       "      <td>7.515560e+04</td>\n",
       "    </tr>\n",
       "    <tr>\n",
       "      <th>min</th>\n",
       "      <td>-1.000000</td>\n",
       "      <td>-1.000000</td>\n",
       "      <td>-1.000000</td>\n",
       "      <td>3.741027e+06</td>\n",
       "      <td>-1.938291e+07</td>\n",
       "      <td>3.740998e+06</td>\n",
       "      <td>-1.937688e+07</td>\n",
       "    </tr>\n",
       "    <tr>\n",
       "      <th>25%</th>\n",
       "      <td>0.000000</td>\n",
       "      <td>-1.000000</td>\n",
       "      <td>0.000000</td>\n",
       "      <td>3.755174e+06</td>\n",
       "      <td>-1.927454e+07</td>\n",
       "      <td>3.755359e+06</td>\n",
       "      <td>-1.927308e+07</td>\n",
       "    </tr>\n",
       "    <tr>\n",
       "      <th>50%</th>\n",
       "      <td>0.000000</td>\n",
       "      <td>0.000000</td>\n",
       "      <td>0.000000</td>\n",
       "      <td>3.760071e+06</td>\n",
       "      <td>-1.923020e+07</td>\n",
       "      <td>3.760076e+06</td>\n",
       "      <td>-1.923031e+07</td>\n",
       "    </tr>\n",
       "    <tr>\n",
       "      <th>75%</th>\n",
       "      <td>0.500000</td>\n",
       "      <td>0.220000</td>\n",
       "      <td>0.440000</td>\n",
       "      <td>3.767509e+06</td>\n",
       "      <td>-1.916999e+07</td>\n",
       "      <td>3.767455e+06</td>\n",
       "      <td>-1.917193e+07</td>\n",
       "    </tr>\n",
       "    <tr>\n",
       "      <th>max</th>\n",
       "      <td>162.000000</td>\n",
       "      <td>162.000000</td>\n",
       "      <td>162.000000</td>\n",
       "      <td>3.777099e+06</td>\n",
       "      <td>-1.904266e+07</td>\n",
       "      <td>3.777055e+06</td>\n",
       "      <td>-1.904666e+07</td>\n",
       "    </tr>\n",
       "  </tbody>\n",
       "</table>\n",
       "</div>"
      ],
      "text/plain": [
       "                vmax           vmin          vmean       x_entry  \\\n",
       "count  256769.000000  256769.000000  270778.000000  8.142620e+05   \n",
       "mean        2.680249       2.279469       2.454799  3.760411e+06   \n",
       "std         7.591053       7.118452       7.160578  8.974393e+03   \n",
       "min        -1.000000      -1.000000      -1.000000  3.741027e+06   \n",
       "25%         0.000000      -1.000000       0.000000  3.755174e+06   \n",
       "50%         0.000000       0.000000       0.000000  3.760071e+06   \n",
       "75%         0.500000       0.220000       0.440000  3.767509e+06   \n",
       "max       162.000000     162.000000     162.000000  3.777099e+06   \n",
       "\n",
       "            y_entry        x_exit        y_exit  \n",
       "count  8.142620e+05  8.142620e+05  8.142620e+05  \n",
       "mean  -1.922153e+07  3.760426e+06 -1.922181e+07  \n",
       "std    7.632234e+04  8.904451e+03  7.515560e+04  \n",
       "min   -1.938291e+07  3.740998e+06 -1.937688e+07  \n",
       "25%   -1.927454e+07  3.755359e+06 -1.927308e+07  \n",
       "50%   -1.923020e+07  3.760076e+06 -1.923031e+07  \n",
       "75%   -1.916999e+07  3.767455e+06 -1.917193e+07  \n",
       "max   -1.904266e+07  3.777055e+06 -1.904666e+07  "
      ]
     },
     "execution_count": 4,
     "metadata": {},
     "output_type": "execute_result"
    }
   ],
   "source": [
    "df_train.describe()"
   ]
  },
  {
   "cell_type": "markdown",
   "metadata": {},
   "source": [
    "Missing Values"
   ]
  },
  {
   "cell_type": "code",
   "execution_count": 5,
   "metadata": {},
   "outputs": [
    {
     "data": {
      "text/plain": [
       "hash                  0\n",
       "trajectory_id         0\n",
       "time_entry            0\n",
       "time_exit             0\n",
       "vmax             557493\n",
       "vmin             557493\n",
       "vmean            543484\n",
       "x_entry               0\n",
       "y_entry               0\n",
       "x_exit                0\n",
       "y_exit                0\n",
       "dtype: int64"
      ]
     },
     "execution_count": 5,
     "metadata": {},
     "output_type": "execute_result"
    }
   ],
   "source": [
    "df_train.isnull().sum()"
   ]
  },
  {
   "cell_type": "markdown",
   "metadata": {},
   "source": [
    "Distribuition of number of trajectories per Hash"
   ]
  },
  {
   "cell_type": "code",
   "execution_count": 6,
   "metadata": {},
   "outputs": [
    {
     "data": {
      "text/plain": [
       "<matplotlib.axes._subplots.AxesSubplot at 0x279587420f0>"
      ]
     },
     "execution_count": 6,
     "metadata": {},
     "output_type": "execute_result"
    },
    {
     "data": {
      "image/png": "[encoded data removed]",
      "text/plain": [
       "<Figure size 432x288 with 1 Axes>"
      ]
     },
     "metadata": {
      "needs_background": "light"
     },
     "output_type": "display_data"
    }
   ],
   "source": [
    "df_train['hash'].value_counts().hist(bins=20)"
   ]
  },
  {
   "cell_type": "markdown",
   "metadata": {},
   "source": [
    "### Adjust types"
   ]
  },
  {
   "cell_type": "code",
   "execution_count": 7,
   "metadata": {},
   "outputs": [],
   "source": [
    "df_train['time_entry'] = pd.to_datetime(df_train['time_entry'], format='%H:%M:%S')\n",
    "df_train['time_exit'] = pd.to_datetime(df_train['time_exit'], format='%H:%M:%S')\n",
    "\n",
    "df_train['hash'] = df_train['hash'].astype('category')\n",
    "df_train['hash'] = df_train['hash'].astype('category')"
   ]
  },
  {
   "cell_type": "markdown",
   "metadata": {},
   "source": [
    "### Verifiy if is in Center City\n",
    "This information will be used to create the target"
   ]
  },
  {
   "cell_type": "code",
   "execution_count": 8,
   "metadata": {},
   "outputs": [],
   "source": [
    "x_min = 3750901.5068\n",
    "x_max = 3770901.5068\n",
    "y_min = -19268905.6133\n",
    "y_max = -19208905.6133"
   ]
  },
  {
   "cell_type": "code",
   "execution_count": 9,
   "metadata": {},
   "outputs": [],
   "source": [
    "condition_x = ((df_train['x_entry'] >= x_min) & (df_train['x_entry'] <= x_max))\n",
    "condition_y = ((df_train['y_entry'] >= y_min) & (df_train['y_entry'] <= y_max))\n",
    "\n",
    "df_train['is_center_entry'] = 0\n",
    "df_train.loc[condition_x & condition_y, 'is_center_entry'] = 1"
   ]
  },
  {
   "cell_type": "code",
   "execution_count": 10,
   "metadata": {},
   "outputs": [],
   "source": [
    "condition_x = ((df_train['x_exit'] >= x_min) & (df_train['x_exit'] <= x_max))\n",
    "condition_y = ((df_train['y_exit'] >= y_min) & (df_train['y_exit'] <= y_max))\n",
    "\n",
    "df_train['is_center_exit'] = 0\n",
    "df_train.loc[condition_x & condition_y, 'is_center_exit'] = 1"
   ]
  },
  {
   "cell_type": "markdown",
   "metadata": {},
   "source": [
    "### Create Points"
   ]
  },
  {
   "cell_type": "code",
   "execution_count": 11,
   "metadata": {},
   "outputs": [
    {
     "data": {
      "text/plain": [
       "0    POINT (3751013.769405791 -19093980.64399624)\n",
       "1    POINT (3743937.189376064 -19322467.54732817)\n",
       "2    POINT (3744867.820319093 -19293564.92351381)\n",
       "3    POINT (3744880.065463081 -19292289.76464524)\n",
       "4     POINT (3744909.008530688 -19285584.9968226)\n",
       "Name: point_entry, dtype: object"
      ]
     },
     "execution_count": 11,
     "metadata": {},
     "output_type": "execute_result"
    }
   ],
   "source": [
    "df_train['point_entry'] = df_train.apply(lambda x: Point(x['x_entry'], x['y_entry']), axis=1)\n",
    "df_train['point_exit'] = df_train.apply(lambda x: Point(x['x_exit'], x['y_exit']), axis=1)\n",
    "\n",
    "df_train['point_entry'].head()"
   ]
  },
  {
   "cell_type": "markdown",
   "metadata": {},
   "source": [
    "#### An example where the trajectory starts outside of the center and ends in the center city"
   ]
  },
  {
   "cell_type": "code",
   "execution_count": 12,
   "metadata": {},
   "outputs": [
    {
     "data": {
      "text/plain": [
       "<matplotlib.legend.Legend at 0x279335d4198>"
      ]
     },
     "execution_count": 12,
     "metadata": {},
     "output_type": "execute_result"
    },
    {
     "data": {
      "image/png": "[encoded data removed]",
      "text/plain": [
       "<Figure size 720x720 with 1 Axes>"
      ]
     },
     "metadata": {
      "needs_background": "light"
     },
     "output_type": "display_data"
    }
   ],
   "source": [
    "df_train['point_entry'] = df_train.apply(lambda x: Point(x['x_entry'], x['y_entry']), axis=1)\n",
    "df_train['point_exit'] = df_train.apply(lambda x: Point(x['x_exit'], x['y_exit']), axis=1)\n",
    "\n",
    "example = df_train[(df_train['is_center_entry'] == 0) & (df_train['is_center_exit'] == 1)].iloc[0]\n",
    "center = Polygon([(x_min, y_min), (x_min, y_max), (x_max , y_max), (x_max, y_min)])\n",
    "\n",
    "fig, ax = plt.subplots()\n",
    "fig.set_size_inches((10,10))\n",
    "gpd.GeoSeries(center).plot(ax=ax)\n",
    "gpd.GeoSeries(example['point_entry']).plot(color='red', ax=ax)\n",
    "gpd.GeoSeries(example['point_exit']).plot(color='green', ax=ax)\n",
    "\n",
    "ax.set_ylabel('Latitude')\n",
    "ax.set_xlabel('Longitude')\n",
    "ax.set_yticklabels([])\n",
    "ax.set_xticklabels([])\n",
    "\n",
    "plt.title(\"Points on map\", fontsize=14)\n",
    "ax.legend(['Entry point', 'Exit point'], loc='best', bbox_to_anchor=(1, 1))"
   ]
  },
  {
   "cell_type": "markdown",
   "metadata": {},
   "source": [
    "### Create new variables"
   ]
  },
  {
   "cell_type": "markdown",
   "metadata": {},
   "source": [
    "#### Distance between entry and exit"
   ]
  },
  {
   "cell_type": "code",
   "execution_count": 13,
   "metadata": {},
   "outputs": [],
   "source": [
    "df_train['distance'] = df_train.apply(lambda x: x['point_entry'].distance(x['point_exit']), axis=1)"
   ]
  },
  {
   "cell_type": "code",
   "execution_count": 14,
   "metadata": {},
   "outputs": [
    {
     "data": {
      "text/plain": [
       "<matplotlib.legend.Legend at 0x279587c26a0>"
      ]
     },
     "execution_count": 14,
     "metadata": {},
     "output_type": "execute_result"
    },
    {
     "data": {
      "image/png": "[encoded data removed]",
      "text/plain": [
       "<Figure size 720x720 with 1 Axes>"
      ]
     },
     "metadata": {
      "needs_background": "light"
     },
     "output_type": "display_data"
    }
   ],
   "source": [
    "aux = df_train.iloc[60].copy()\n",
    "pt1 = Point(aux['x_entry'], aux['y_entry'])\n",
    "pt2 = Point(aux['x_exit'], aux['y_exit'])\n",
    "\n",
    "fig, ax = plt.subplots()\n",
    "fig.set_size_inches((10,10))\n",
    "\n",
    "gpd.GeoSeries(center).plot(ax=ax)\n",
    "gpd.GeoSeries(pt1).plot(color='green', ax=ax)\n",
    "gpd.GeoSeries(pt2).plot(color='red', ax=ax)\n",
    "\n",
    "gpd.GeoSeries(LineString([pt1, pt2])).plot(color='black', ax=ax)\n",
    "\n",
    "plt.title(\"Travelled distance\", fontsize=14)\n",
    "# ax.set_yticklabels([])\n",
    "ax.set_xticklabels([])\n",
    "ax.legend(['Entry point', 'Exit point', 'Trajectory'], \n",
    "          loc='best', bbox_to_anchor=(1, 1))"
   ]
  },
  {
   "cell_type": "markdown",
   "metadata": {},
   "source": [
    "#### Duration of the trajectory"
   ]
  },
  {
   "cell_type": "code",
   "execution_count": 15,
   "metadata": {},
   "outputs": [],
   "source": [
    "df_train['duration'] = df_train['time_exit'] - df_train['time_entry']\n",
    "df_train['duration'] = df_train['duration'].dt.total_seconds() / 60"
   ]
  },
  {
   "cell_type": "markdown",
   "metadata": {},
   "source": [
    "#### Average speed\n",
    "average speed using distance computed from the points"
   ]
  },
  {
   "cell_type": "code",
   "execution_count": 16,
   "metadata": {},
   "outputs": [],
   "source": [
    "df_train['my_vmean'] = df_train['distance'] / df_train['duration']\n",
    "df_train['my_vmean'].fillna(0, inplace=True)\n",
    "df_train['my_vmean'].replace(np.inf, 0, inplace=True)"
   ]
  },
  {
   "cell_type": "markdown",
   "metadata": {},
   "source": [
    "#### Time features\n",
    "Hour, minute and part of the day"
   ]
  },
  {
   "cell_type": "code",
   "execution_count": 17,
   "metadata": {
    "scrolled": true
   },
   "outputs": [],
   "source": [
    "df_train['time_entry_hour'] = df_train['time_entry'].dt.hour\n",
    "df_train['time_entry_minute'] = df_train['time_entry'].dt.minute\n",
    "\n",
    "df_train['time_exit_hour'] = df_train['time_exit'].dt.hour\n",
    "df_train['time_exit_minute'] = df_train['time_exit'].dt.minute\n",
    "\n",
    "df_train['time_entry_part_day'] = pd.cut(df_train['time_entry'].dt.hour, [0, 4, 8 , 12, 16], labels=['night', 'early morning', 'morning', 'afternoon'], include_lowest=True)\n",
    "df_train['time_exit_part_day'] = pd.cut(df_train['time_exit'].dt.hour, [0, 4, 8 , 12, 16], labels=['night', 'early morning', 'morning', 'afternoon'], include_lowest=True)"
   ]
  },
  {
   "cell_type": "code",
   "execution_count": 18,
   "metadata": {},
   "outputs": [],
   "source": [
    "df_train.drop(['time_entry', 'time_exit'], axis=1, inplace=True)"
   ]
  },
  {
   "cell_type": "code",
   "execution_count": 19,
   "metadata": {},
   "outputs": [
    {
     "data": {
      "text/html": [
       "<div>\n",
       "<style scoped>\n",
       "    .dataframe tbody tr th:only-of-type {\n",
       "        vertical-align: middle;\n",
       "    }\n",
       "\n",
       "    .dataframe tbody tr th {\n",
       "        vertical-align: top;\n",
       "    }\n",
       "\n",
       "    .dataframe thead th {\n",
       "        text-align: right;\n",
       "    }\n",
       "</style>\n",
       "<table border=\"1\" class=\"dataframe\">\n",
       "  <thead>\n",
       "    <tr style=\"text-align: right;\">\n",
       "      <th></th>\n",
       "      <th>hash</th>\n",
       "      <th>trajectory_id</th>\n",
       "      <th>vmax</th>\n",
       "      <th>vmin</th>\n",
       "      <th>vmean</th>\n",
       "      <th>x_entry</th>\n",
       "      <th>y_entry</th>\n",
       "      <th>x_exit</th>\n",
       "      <th>y_exit</th>\n",
       "      <th>is_center_entry</th>\n",
       "      <th>...</th>\n",
       "      <th>point_exit</th>\n",
       "      <th>distance</th>\n",
       "      <th>duration</th>\n",
       "      <th>my_vmean</th>\n",
       "      <th>time_entry_hour</th>\n",
       "      <th>time_entry_minute</th>\n",
       "      <th>time_exit_hour</th>\n",
       "      <th>time_exit_minute</th>\n",
       "      <th>time_entry_part_day</th>\n",
       "      <th>time_exit_part_day</th>\n",
       "    </tr>\n",
       "  </thead>\n",
       "  <tbody>\n",
       "    <tr>\n",
       "      <th>0</th>\n",
       "      <td>0000a8602cf2def930488dee7cdad104_1</td>\n",
       "      <td>traj_0000a8602cf2def930488dee7cdad104_1_0</td>\n",
       "      <td>NaN</td>\n",
       "      <td>NaN</td>\n",
       "      <td>NaN</td>\n",
       "      <td>3.751014e+06</td>\n",
       "      <td>-1.909398e+07</td>\n",
       "      <td>3.750326e+06</td>\n",
       "      <td>-1.913634e+07</td>\n",
       "      <td>0</td>\n",
       "      <td>...</td>\n",
       "      <td>POINT (3750325.814952688 -19136339.92096884)</td>\n",
       "      <td>42364.863118</td>\n",
       "      <td>4.016667</td>\n",
       "      <td>10547.268826</td>\n",
       "      <td>7</td>\n",
       "      <td>4</td>\n",
       "      <td>7</td>\n",
       "      <td>8</td>\n",
       "      <td>early morning</td>\n",
       "      <td>early morning</td>\n",
       "    </tr>\n",
       "    <tr>\n",
       "      <th>1</th>\n",
       "      <td>0000a8602cf2def930488dee7cdad104_1</td>\n",
       "      <td>traj_0000a8602cf2def930488dee7cdad104_1_1</td>\n",
       "      <td>NaN</td>\n",
       "      <td>NaN</td>\n",
       "      <td>NaN</td>\n",
       "      <td>3.743937e+06</td>\n",
       "      <td>-1.932247e+07</td>\n",
       "      <td>3.744975e+06</td>\n",
       "      <td>-1.931966e+07</td>\n",
       "      <td>0</td>\n",
       "      <td>...</td>\n",
       "      <td>POINT (3744974.687030255 -19319663.69860901)</td>\n",
       "      <td>2989.643628</td>\n",
       "      <td>5.133333</td>\n",
       "      <td>582.398109</td>\n",
       "      <td>7</td>\n",
       "      <td>20</td>\n",
       "      <td>7</td>\n",
       "      <td>25</td>\n",
       "      <td>early morning</td>\n",
       "      <td>early morning</td>\n",
       "    </tr>\n",
       "    <tr>\n",
       "      <th>2</th>\n",
       "      <td>0000a8602cf2def930488dee7cdad104_1</td>\n",
       "      <td>traj_0000a8602cf2def930488dee7cdad104_1_2</td>\n",
       "      <td>NaN</td>\n",
       "      <td>NaN</td>\n",
       "      <td>NaN</td>\n",
       "      <td>3.744868e+06</td>\n",
       "      <td>-1.929356e+07</td>\n",
       "      <td>3.744816e+06</td>\n",
       "      <td>-1.929284e+07</td>\n",
       "      <td>0</td>\n",
       "      <td>...</td>\n",
       "      <td>POINT (3744815.500158423 -19292841.1535587)</td>\n",
       "      <td>725.658561</td>\n",
       "      <td>9.883333</td>\n",
       "      <td>73.422451</td>\n",
       "      <td>7</td>\n",
       "      <td>53</td>\n",
       "      <td>8</td>\n",
       "      <td>3</td>\n",
       "      <td>early morning</td>\n",
       "      <td>early morning</td>\n",
       "    </tr>\n",
       "    <tr>\n",
       "      <th>3</th>\n",
       "      <td>0000a8602cf2def930488dee7cdad104_1</td>\n",
       "      <td>traj_0000a8602cf2def930488dee7cdad104_1_3</td>\n",
       "      <td>NaN</td>\n",
       "      <td>NaN</td>\n",
       "      <td>NaN</td>\n",
       "      <td>3.744880e+06</td>\n",
       "      <td>-1.929229e+07</td>\n",
       "      <td>3.744809e+06</td>\n",
       "      <td>-1.929049e+07</td>\n",
       "      <td>0</td>\n",
       "      <td>...</td>\n",
       "      <td>POINT (3744808.820988975 -19290486.59470633)</td>\n",
       "      <td>1804.576849</td>\n",
       "      <td>19.550000</td>\n",
       "      <td>92.305721</td>\n",
       "      <td>8</td>\n",
       "      <td>17</td>\n",
       "      <td>8</td>\n",
       "      <td>37</td>\n",
       "      <td>early morning</td>\n",
       "      <td>early morning</td>\n",
       "    </tr>\n",
       "    <tr>\n",
       "      <th>4</th>\n",
       "      <td>0000a8602cf2def930488dee7cdad104_1</td>\n",
       "      <td>traj_0000a8602cf2def930488dee7cdad104_1_4</td>\n",
       "      <td>NaN</td>\n",
       "      <td>NaN</td>\n",
       "      <td>NaN</td>\n",
       "      <td>3.744909e+06</td>\n",
       "      <td>-1.928558e+07</td>\n",
       "      <td>3.744909e+06</td>\n",
       "      <td>-1.928558e+07</td>\n",
       "      <td>0</td>\n",
       "      <td>...</td>\n",
       "      <td>POINT (3744909.008530688 -19285584.9968226)</td>\n",
       "      <td>0.000000</td>\n",
       "      <td>0.000000</td>\n",
       "      <td>0.000000</td>\n",
       "      <td>14</td>\n",
       "      <td>38</td>\n",
       "      <td>14</td>\n",
       "      <td>38</td>\n",
       "      <td>afternoon</td>\n",
       "      <td>afternoon</td>\n",
       "    </tr>\n",
       "  </tbody>\n",
       "</table>\n",
       "<p>5 rows × 22 columns</p>\n",
       "</div>"
      ],
      "text/plain": [
       "                                 hash  \\\n",
       "0  0000a8602cf2def930488dee7cdad104_1   \n",
       "1  0000a8602cf2def930488dee7cdad104_1   \n",
       "2  0000a8602cf2def930488dee7cdad104_1   \n",
       "3  0000a8602cf2def930488dee7cdad104_1   \n",
       "4  0000a8602cf2def930488dee7cdad104_1   \n",
       "\n",
       "                               trajectory_id  vmax  vmin  vmean       x_entry  \\\n",
       "0  traj_0000a8602cf2def930488dee7cdad104_1_0   NaN   NaN    NaN  3.751014e+06   \n",
       "1  traj_0000a8602cf2def930488dee7cdad104_1_1   NaN   NaN    NaN  3.743937e+06   \n",
       "2  traj_0000a8602cf2def930488dee7cdad104_1_2   NaN   NaN    NaN  3.744868e+06   \n",
       "3  traj_0000a8602cf2def930488dee7cdad104_1_3   NaN   NaN    NaN  3.744880e+06   \n",
       "4  traj_0000a8602cf2def930488dee7cdad104_1_4   NaN   NaN    NaN  3.744909e+06   \n",
       "\n",
       "        y_entry        x_exit        y_exit  is_center_entry  ...  \\\n",
       "0 -1.909398e+07  3.750326e+06 -1.913634e+07                0  ...   \n",
       "1 -1.932247e+07  3.744975e+06 -1.931966e+07                0  ...   \n",
       "2 -1.929356e+07  3.744816e+06 -1.929284e+07                0  ...   \n",
       "3 -1.929229e+07  3.744809e+06 -1.929049e+07                0  ...   \n",
       "4 -1.928558e+07  3.744909e+06 -1.928558e+07                0  ...   \n",
       "\n",
       "                                     point_exit      distance   duration  \\\n",
       "0  POINT (3750325.814952688 -19136339.92096884)  42364.863118   4.016667   \n",
       "1  POINT (3744974.687030255 -19319663.69860901)   2989.643628   5.133333   \n",
       "2   POINT (3744815.500158423 -19292841.1535587)    725.658561   9.883333   \n",
       "3  POINT (3744808.820988975 -19290486.59470633)   1804.576849  19.550000   \n",
       "4   POINT (3744909.008530688 -19285584.9968226)      0.000000   0.000000   \n",
       "\n",
       "       my_vmean  time_entry_hour  time_entry_minute  time_exit_hour  \\\n",
       "0  10547.268826                7                  4               7   \n",
       "1    582.398109                7                 20               7   \n",
       "2     73.422451                7                 53               8   \n",
       "3     92.305721                8                 17               8   \n",
       "4      0.000000               14                 38              14   \n",
       "\n",
       "   time_exit_minute  time_entry_part_day  time_exit_part_day  \n",
       "0                 8        early morning       early morning  \n",
       "1                25        early morning       early morning  \n",
       "2                 3        early morning       early morning  \n",
       "3                37        early morning       early morning  \n",
       "4                38            afternoon           afternoon  \n",
       "\n",
       "[5 rows x 22 columns]"
      ]
     },
     "execution_count": 19,
     "metadata": {},
     "output_type": "execute_result"
    }
   ],
   "source": [
    "df_train.head()"
   ]
  },
  {
   "cell_type": "markdown",
   "metadata": {},
   "source": [
    "### Distance between the center and entry"
   ]
  },
  {
   "cell_type": "code",
   "execution_count": 20,
   "metadata": {},
   "outputs": [],
   "source": [
    "x_c = (x_min + x_max) / 2\n",
    "y_c = (y_min + y_max) / 2\n",
    "\n",
    "center_point = Point(x_c, y_c)"
   ]
  },
  {
   "cell_type": "markdown",
   "metadata": {},
   "source": [
    "#### Distance from city limits"
   ]
  },
  {
   "cell_type": "code",
   "execution_count": 21,
   "metadata": {},
   "outputs": [],
   "source": [
    "df_train['distance_center_entry'] = df_train.apply(lambda x: x['point_entry'].distance(center), axis=1)\n",
    "df_train['distance_center_exit'] = df_train.apply(lambda x: x['point_exit'].distance(center), axis=1)"
   ]
  },
  {
   "cell_type": "code",
   "execution_count": 22,
   "metadata": {},
   "outputs": [],
   "source": [
    "df_train['distance_boundary_center_entry'] = df_train.apply(lambda x: x['point_entry'].distance(center.boundary), axis=1)\n",
    "df_train['distance_boundary_center_exit'] = df_train.apply(lambda x: x['point_exit'].distance(center.boundary), axis=1)"
   ]
  },
  {
   "cell_type": "code",
   "execution_count": 23,
   "metadata": {},
   "outputs": [
    {
     "data": {
      "text/plain": [
       "<matplotlib.legend.Legend at 0x279587ce128>"
      ]
     },
     "execution_count": 23,
     "metadata": {},
     "output_type": "execute_result"
    },
    {
     "data": {
      "image/png": "[encoded data removed]",
      "text/plain": [
       "<Figure size 720x720 with 1 Axes>"
      ]
     },
     "metadata": {
      "needs_background": "light"
     },
     "output_type": "display_data"
    }
   ],
   "source": [
    "aux = df_train.iloc[60].copy()\n",
    "pt1 = Point(aux['x_entry'], aux['y_entry'])\n",
    "pt2 = Point(aux['x_exit'], aux['y_exit'])\n",
    "\n",
    "fig, ax = plt.subplots()\n",
    "fig.set_size_inches((10,10))\n",
    "\n",
    "gpd.GeoSeries(center).plot(ax=ax)\n",
    "gpd.GeoSeries(pt1).plot(color='green', ax=ax)\n",
    "gpd.GeoSeries(pt2).plot(color='red', ax=ax)\n",
    "gpd.GeoSeries(center_point).plot(color='gray', ax=ax)\n",
    "\n",
    "gpd.GeoSeries(LineString([pt1, nearest_points(pt1, center.boundary)[1]])).plot(color='green', ax=ax)\n",
    "gpd.GeoSeries(LineString([pt2, nearest_points(pt2, center.boundary)[1]])).plot(color='red', ax=ax)\n",
    "\n",
    "plt.title(\"Distance from city limits\", fontsize=14)\n",
    "ax.set_yticklabels([])\n",
    "ax.set_xticklabels([])\n",
    "ax.legend(['Entry point', 'Exit point', 'Center point',\n",
    "          'Distance between entry and boundary of the city', 'Distance between exit and boundary of the city'], \n",
    "          loc='best', bbox_to_anchor=(1, 1))"
   ]
  },
  {
   "cell_type": "markdown",
   "metadata": {},
   "source": [
    "#### Distance from the central point"
   ]
  },
  {
   "cell_type": "code",
   "execution_count": 24,
   "metadata": {},
   "outputs": [],
   "source": [
    "df_train['distance_center_point_entry'] = df_train.apply(lambda x: x['point_entry'].distance(center_point), axis=1)\n",
    "df_train['distance_center_point_exit'] = df_train.apply(lambda x: x['point_exit'].distance(center_point), axis=1)"
   ]
  },
  {
   "cell_type": "code",
   "execution_count": 25,
   "metadata": {},
   "outputs": [
    {
     "data": {
      "text/plain": [
       "<matplotlib.legend.Legend at 0x27937e9e048>"
      ]
     },
     "execution_count": 25,
     "metadata": {},
     "output_type": "execute_result"
    },
    {
     "data": {
      "image/png": "[encoded data removed]",
      "text/plain": [
       "<Figure size 720x720 with 1 Axes>"
      ]
     },
     "metadata": {
      "needs_background": "light"
     },
     "output_type": "display_data"
    }
   ],
   "source": [
    "aux = df_train.iloc[60].copy()\n",
    "pt1 = Point(aux['x_entry'], aux['y_entry'])\n",
    "pt2 = Point(aux['x_exit'], aux['y_exit'])\n",
    "\n",
    "fig, ax = plt.subplots()\n",
    "fig.set_size_inches((10,10))\n",
    "\n",
    "gpd.GeoSeries(center).plot(ax=ax)\n",
    "gpd.GeoSeries(pt1).plot(color='green', ax=ax)\n",
    "gpd.GeoSeries(pt2).plot(color='red', ax=ax)\n",
    "gpd.GeoSeries(center_point).plot(color='gray', ax=ax)\n",
    "\n",
    "gpd.GeoSeries(LineString([pt1, center_point])).plot(color='green', ax=ax)\n",
    "gpd.GeoSeries(LineString([pt2, center_point])).plot(color='red', ax=ax)\n",
    "\n",
    "plt.title(\"Distance from the center city\", fontsize=14)\n",
    "ax.set_yticklabels([])\n",
    "ax.set_xticklabels([])\n",
    "ax.legend(['Entry point', 'Exit point', 'Center point',\n",
    "          'Distance between entry and central point', 'Distance between exit and central point'], \n",
    "          loc='best', bbox_to_anchor=(1, 1))"
   ]
  },
  {
   "cell_type": "markdown",
   "metadata": {},
   "source": [
    "#### Approach from the center.\n",
    "Thinking about moving, direction just not enough. Because the person may be walking towards the center or not, all depends on the starting point. Then we calculate the approximation of the center with the distances traveled."
   ]
  },
  {
   "cell_type": "code",
   "execution_count": 26,
   "metadata": {},
   "outputs": [],
   "source": [
    "df_train['approach_center_point'] = df_train['distance_center_point_entry'] - df_train['distance_center_point_exit']\n",
    "df_train['approach_center'] = df_train['distance_boundary_center_entry'] - df_train['distance_boundary_center_exit']"
   ]
  },
  {
   "cell_type": "code",
   "execution_count": 27,
   "metadata": {},
   "outputs": [
    {
     "name": "stdout",
     "output_type": "stream",
     "text": [
      "Distance from p1 to the center: \t 104772.796687635\n",
      "Distance from p2 to the center: \t 28072.47005724907\n",
      "Distance between p1 and p2: \t\t 193384.92061495656\n",
      "Approach from the center: \t\t 76700.32663038593\n"
     ]
    }
   ],
   "source": [
    "p1 = Point(df_train.iloc[10]['x_entry'], df_train.iloc[10]['y_entry'])\n",
    "p2 = Point(df_train.iloc[10]['x_exit'], df_train.iloc[10]['y_exit'])\n",
    "\n",
    "print('Distance from p1 to the center: \\t', p1.distance(center.boundary))\n",
    "print('Distance from p2 to the center: \\t', p2.distance(center.boundary))\n",
    "\n",
    "print('Distance between p1 and p2: \\t\\t', p1.distance(p2))\n",
    "\n",
    "print('Approach from the center: \\t\\t', p1.distance(center.boundary) - p2.distance(center.boundary))"
   ]
  },
  {
   "cell_type": "markdown",
   "metadata": {},
   "source": [
    "#### Delete points"
   ]
  },
  {
   "cell_type": "code",
   "execution_count": 28,
   "metadata": {
    "scrolled": true
   },
   "outputs": [],
   "source": [
    "df_train.drop(['point_entry', 'point_exit'], axis=1, inplace=True)"
   ]
  },
  {
   "cell_type": "markdown",
   "metadata": {},
   "source": [
    "#### Transform Part of the day in binary features "
   ]
  },
  {
   "cell_type": "code",
   "execution_count": 29,
   "metadata": {},
   "outputs": [],
   "source": [
    "entry_part_day = pd.get_dummies(df_train['time_entry_part_day'])\n",
    "entry_part_day.columns = [i + '_entry' for i in entry_part_day.columns]\n",
    "\n",
    "exit_part_day = pd.get_dummies(df_train['time_exit_part_day'])\n",
    "exit_part_day.columns = [i + '_exit' for i in exit_part_day.columns]\n",
    "\n",
    "df_train = pd.concat([df_train, entry_part_day, exit_part_day], axis=1)\n",
    "df_train.drop(['time_entry_part_day', 'time_exit_part_day'], axis=1, inplace=True)"
   ]
  },
  {
   "cell_type": "code",
   "execution_count": 30,
   "metadata": {},
   "outputs": [
    {
     "data": {
      "text/html": [
       "<div>\n",
       "<style scoped>\n",
       "    .dataframe tbody tr th:only-of-type {\n",
       "        vertical-align: middle;\n",
       "    }\n",
       "\n",
       "    .dataframe tbody tr th {\n",
       "        vertical-align: top;\n",
       "    }\n",
       "\n",
       "    .dataframe thead th {\n",
       "        text-align: right;\n",
       "    }\n",
       "</style>\n",
       "<table border=\"1\" class=\"dataframe\">\n",
       "  <thead>\n",
       "    <tr style=\"text-align: right;\">\n",
       "      <th></th>\n",
       "      <th>hash</th>\n",
       "      <th>trajectory_id</th>\n",
       "      <th>vmax</th>\n",
       "      <th>vmin</th>\n",
       "      <th>vmean</th>\n",
       "      <th>x_entry</th>\n",
       "      <th>y_entry</th>\n",
       "      <th>x_exit</th>\n",
       "      <th>y_exit</th>\n",
       "      <th>is_center_entry</th>\n",
       "      <th>...</th>\n",
       "      <th>approach_center_point</th>\n",
       "      <th>approach_center</th>\n",
       "      <th>night_entry</th>\n",
       "      <th>early morning_entry</th>\n",
       "      <th>morning_entry</th>\n",
       "      <th>afternoon_entry</th>\n",
       "      <th>night_exit</th>\n",
       "      <th>early morning_exit</th>\n",
       "      <th>morning_exit</th>\n",
       "      <th>afternoon_exit</th>\n",
       "    </tr>\n",
       "  </thead>\n",
       "  <tbody>\n",
       "    <tr>\n",
       "      <th>0</th>\n",
       "      <td>0000a8602cf2def930488dee7cdad104_1</td>\n",
       "      <td>traj_0000a8602cf2def930488dee7cdad104_1_0</td>\n",
       "      <td>NaN</td>\n",
       "      <td>NaN</td>\n",
       "      <td>NaN</td>\n",
       "      <td>3.751014e+06</td>\n",
       "      <td>-1.909398e+07</td>\n",
       "      <td>3.750326e+06</td>\n",
       "      <td>-1.913634e+07</td>\n",
       "      <td>0</td>\n",
       "      <td>...</td>\n",
       "      <td>42152.393092</td>\n",
       "      <td>42356.993415</td>\n",
       "      <td>0</td>\n",
       "      <td>1</td>\n",
       "      <td>0</td>\n",
       "      <td>0</td>\n",
       "      <td>0</td>\n",
       "      <td>1</td>\n",
       "      <td>0</td>\n",
       "      <td>0</td>\n",
       "    </tr>\n",
       "    <tr>\n",
       "      <th>1</th>\n",
       "      <td>0000a8602cf2def930488dee7cdad104_1</td>\n",
       "      <td>traj_0000a8602cf2def930488dee7cdad104_1_1</td>\n",
       "      <td>NaN</td>\n",
       "      <td>NaN</td>\n",
       "      <td>NaN</td>\n",
       "      <td>3.743937e+06</td>\n",
       "      <td>-1.932247e+07</td>\n",
       "      <td>3.744975e+06</td>\n",
       "      <td>-1.931966e+07</td>\n",
       "      <td>0</td>\n",
       "      <td>...</td>\n",
       "      <td>2952.932615</td>\n",
       "      <td>2909.859939</td>\n",
       "      <td>0</td>\n",
       "      <td>1</td>\n",
       "      <td>0</td>\n",
       "      <td>0</td>\n",
       "      <td>0</td>\n",
       "      <td>1</td>\n",
       "      <td>0</td>\n",
       "      <td>0</td>\n",
       "    </tr>\n",
       "    <tr>\n",
       "      <th>2</th>\n",
       "      <td>0000a8602cf2def930488dee7cdad104_1</td>\n",
       "      <td>traj_0000a8602cf2def930488dee7cdad104_1_2</td>\n",
       "      <td>NaN</td>\n",
       "      <td>NaN</td>\n",
       "      <td>NaN</td>\n",
       "      <td>3.744868e+06</td>\n",
       "      <td>-1.929356e+07</td>\n",
       "      <td>3.744816e+06</td>\n",
       "      <td>-1.929284e+07</td>\n",
       "      <td>0</td>\n",
       "      <td>...</td>\n",
       "      <td>679.206396</td>\n",
       "      <td>689.590573</td>\n",
       "      <td>0</td>\n",
       "      <td>1</td>\n",
       "      <td>0</td>\n",
       "      <td>0</td>\n",
       "      <td>0</td>\n",
       "      <td>1</td>\n",
       "      <td>0</td>\n",
       "      <td>0</td>\n",
       "    </tr>\n",
       "    <tr>\n",
       "      <th>3</th>\n",
       "      <td>0000a8602cf2def930488dee7cdad104_1</td>\n",
       "      <td>traj_0000a8602cf2def930488dee7cdad104_1_3</td>\n",
       "      <td>NaN</td>\n",
       "      <td>NaN</td>\n",
       "      <td>NaN</td>\n",
       "      <td>3.744880e+06</td>\n",
       "      <td>-1.929229e+07</td>\n",
       "      <td>3.744809e+06</td>\n",
       "      <td>-1.929049e+07</td>\n",
       "      <td>0</td>\n",
       "      <td>...</td>\n",
       "      <td>1703.405368</td>\n",
       "      <td>1722.441948</td>\n",
       "      <td>0</td>\n",
       "      <td>1</td>\n",
       "      <td>0</td>\n",
       "      <td>0</td>\n",
       "      <td>0</td>\n",
       "      <td>1</td>\n",
       "      <td>0</td>\n",
       "      <td>0</td>\n",
       "    </tr>\n",
       "    <tr>\n",
       "      <th>4</th>\n",
       "      <td>0000a8602cf2def930488dee7cdad104_1</td>\n",
       "      <td>traj_0000a8602cf2def930488dee7cdad104_1_4</td>\n",
       "      <td>NaN</td>\n",
       "      <td>NaN</td>\n",
       "      <td>NaN</td>\n",
       "      <td>3.744909e+06</td>\n",
       "      <td>-1.928558e+07</td>\n",
       "      <td>3.744909e+06</td>\n",
       "      <td>-1.928558e+07</td>\n",
       "      <td>0</td>\n",
       "      <td>...</td>\n",
       "      <td>0.000000</td>\n",
       "      <td>0.000000</td>\n",
       "      <td>0</td>\n",
       "      <td>0</td>\n",
       "      <td>0</td>\n",
       "      <td>1</td>\n",
       "      <td>0</td>\n",
       "      <td>0</td>\n",
       "      <td>0</td>\n",
       "      <td>1</td>\n",
       "    </tr>\n",
       "  </tbody>\n",
       "</table>\n",
       "<p>5 rows × 34 columns</p>\n",
       "</div>"
      ],
      "text/plain": [
       "                                 hash  \\\n",
       "0  0000a8602cf2def930488dee7cdad104_1   \n",
       "1  0000a8602cf2def930488dee7cdad104_1   \n",
       "2  0000a8602cf2def930488dee7cdad104_1   \n",
       "3  0000a8602cf2def930488dee7cdad104_1   \n",
       "4  0000a8602cf2def930488dee7cdad104_1   \n",
       "\n",
       "                               trajectory_id  vmax  vmin  vmean       x_entry  \\\n",
       "0  traj_0000a8602cf2def930488dee7cdad104_1_0   NaN   NaN    NaN  3.751014e+06   \n",
       "1  traj_0000a8602cf2def930488dee7cdad104_1_1   NaN   NaN    NaN  3.743937e+06   \n",
       "2  traj_0000a8602cf2def930488dee7cdad104_1_2   NaN   NaN    NaN  3.744868e+06   \n",
       "3  traj_0000a8602cf2def930488dee7cdad104_1_3   NaN   NaN    NaN  3.744880e+06   \n",
       "4  traj_0000a8602cf2def930488dee7cdad104_1_4   NaN   NaN    NaN  3.744909e+06   \n",
       "\n",
       "        y_entry        x_exit        y_exit  is_center_entry  ...  \\\n",
       "0 -1.909398e+07  3.750326e+06 -1.913634e+07                0  ...   \n",
       "1 -1.932247e+07  3.744975e+06 -1.931966e+07                0  ...   \n",
       "2 -1.929356e+07  3.744816e+06 -1.929284e+07                0  ...   \n",
       "3 -1.929229e+07  3.744809e+06 -1.929049e+07                0  ...   \n",
       "4 -1.928558e+07  3.744909e+06 -1.928558e+07                0  ...   \n",
       "\n",
       "   approach_center_point  approach_center  night_entry  early morning_entry  \\\n",
       "0           42152.393092     42356.993415            0                    1   \n",
       "1            2952.932615      2909.859939            0                    1   \n",
       "2             679.206396       689.590573            0                    1   \n",
       "3            1703.405368      1722.441948            0                    1   \n",
       "4               0.000000         0.000000            0                    0   \n",
       "\n",
       "   morning_entry  afternoon_entry  night_exit  early morning_exit  \\\n",
       "0              0                0           0                   1   \n",
       "1              0                0           0                   1   \n",
       "2              0                0           0                   1   \n",
       "3              0                0           0                   1   \n",
       "4              0                1           0                   0   \n",
       "\n",
       "   morning_exit  afternoon_exit  \n",
       "0             0               0  \n",
       "1             0               0  \n",
       "2             0               0  \n",
       "3             0               0  \n",
       "4             0               1  \n",
       "\n",
       "[5 rows x 34 columns]"
      ]
     },
     "execution_count": 30,
     "metadata": {},
     "output_type": "execute_result"
    }
   ],
   "source": [
    "df_train.head()"
   ]
  },
  {
   "cell_type": "code",
   "execution_count": 31,
   "metadata": {},
   "outputs": [
    {
     "data": {
      "text/plain": [
       "['hash',\n",
       " 'trajectory_id',\n",
       " 'vmax',\n",
       " 'vmin',\n",
       " 'vmean',\n",
       " 'x_entry',\n",
       " 'y_entry',\n",
       " 'x_exit',\n",
       " 'y_exit',\n",
       " 'is_center_entry',\n",
       " 'is_center_exit',\n",
       " 'distance',\n",
       " 'duration',\n",
       " 'my_vmean',\n",
       " 'time_entry_hour',\n",
       " 'time_entry_minute',\n",
       " 'time_exit_hour',\n",
       " 'time_exit_minute',\n",
       " 'distance_center_entry',\n",
       " 'distance_center_exit',\n",
       " 'distance_boundary_center_entry',\n",
       " 'distance_boundary_center_exit',\n",
       " 'distance_center_point_entry',\n",
       " 'distance_center_point_exit',\n",
       " 'approach_center_point',\n",
       " 'approach_center',\n",
       " 'night_entry',\n",
       " 'early morning_entry',\n",
       " 'morning_entry',\n",
       " 'afternoon_entry',\n",
       " 'night_exit',\n",
       " 'early morning_exit',\n",
       " 'morning_exit',\n",
       " 'afternoon_exit']"
      ]
     },
     "execution_count": 31,
     "metadata": {},
     "output_type": "execute_result"
    }
   ],
   "source": [
    "df_train.columns.to_list()"
   ]
  },
  {
   "cell_type": "markdown",
   "metadata": {},
   "source": [
    "### Change the grain and use trajectories as features\n",
    "This is one of main approaches. In the current dataset, the hash has many trajectories, but the prediction is made for the last one (after 15 P.M).\n",
    "So, let's use the trajectories to create a sequence where the priority is the last. This is, we will sort the trajectories by the last ones.\n",
    "\n",
    "The number *k* of trajectories used will be 20 (all), but can be changed.\n",
    "\n",
    "This transformation consume the most time of the proccess. There are approximately 135 thousand hashes and a total of 815 thousand of trajectories. Then, I recommend execute this on terminal through the code Python for execute more fast."
   ]
  },
  {
   "cell_type": "markdown",
   "metadata": {},
   "source": [
    "#### Create aggregate features during the transformation\n",
    "During the transformation of grain is created aggregate features. The trajectories become features, but before, the set of features are used for compute general information, searching find caracteristics of jorney.\n",
    "\n",
    "Features:\n",
    "* Average distance\n",
    "* Average duration\n",
    "* Average velocity (my_vmean, previously created feature)\n",
    "* Distance estimated (Average velocity * Average duration)\n",
    "* Number of trajectories"
   ]
  },
  {
   "cell_type": "code",
   "execution_count": 32,
   "metadata": {},
   "outputs": [],
   "source": [
    "k = 20\n",
    "rows = []\n",
    "size = len(df_train['hash'].unique())"
   ]
  },
  {
   "cell_type": "code",
   "execution_count": 33,
   "metadata": {},
   "outputs": [
    {
     "name": "stdout",
     "output_type": "stream",
     "text": [
      "500/134063\n",
      "1000/134063\n",
      "1500/134063\n",
      "2000/134063\n",
      "2500/134063\n",
      "3000/134063\n",
      "3500/134063\n",
      "4000/134063\n",
      "4500/134063\n",
      "5000/134063\n",
      "5500/134063\n",
      "6000/134063\n",
      "6500/134063\n",
      "7000/134063\n",
      "7500/134063\n",
      "8000/134063\n",
      "8500/134063\n",
      "9000/134063\n",
      "9500/134063\n",
      "10000/134063\n",
      "10500/134063\n",
      "11000/134063\n",
      "11500/134063\n",
      "12000/134063\n",
      "12500/134063\n",
      "13000/134063\n",
      "13500/134063\n",
      "14000/134063\n",
      "14500/134063\n",
      "15000/134063\n",
      "15500/134063\n",
      "16000/134063\n",
      "16500/134063\n",
      "17000/134063\n",
      "17500/134063\n",
      "18000/134063\n",
      "18500/134063\n",
      "19000/134063\n",
      "19500/134063\n",
      "20000/134063\n",
      "20500/134063\n",
      "21000/134063\n",
      "21500/134063\n",
      "22000/134063\n",
      "22500/134063\n",
      "23000/134063\n",
      "23500/134063\n",
      "24000/134063\n",
      "24500/134063\n",
      "25000/134063\n",
      "25500/134063\n",
      "26000/134063\n",
      "26500/134063\n",
      "27000/134063\n",
      "27500/134063\n",
      "28000/134063\n",
      "28500/134063\n",
      "29000/134063\n",
      "29500/134063\n",
      "30000/134063\n",
      "30500/134063\n",
      "31000/134063\n",
      "31500/134063\n",
      "32000/134063\n",
      "32500/134063\n",
      "33000/134063\n",
      "33500/134063\n",
      "34000/134063\n",
      "34500/134063\n",
      "35000/134063\n",
      "35500/134063\n",
      "36000/134063\n",
      "36500/134063\n",
      "37000/134063\n",
      "37500/134063\n",
      "38000/134063\n",
      "38500/134063\n",
      "39000/134063\n",
      "39500/134063\n",
      "40000/134063\n",
      "40500/134063\n",
      "41000/134063\n",
      "41500/134063\n",
      "42000/134063\n",
      "42500/134063\n",
      "43000/134063\n",
      "43500/134063\n",
      "44000/134063\n",
      "44500/134063\n",
      "45000/134063\n",
      "45500/134063\n",
      "46000/134063\n",
      "46500/134063\n",
      "47000/134063\n",
      "47500/134063\n",
      "48000/134063\n",
      "48500/134063\n",
      "49000/134063\n",
      "49500/134063\n",
      "50000/134063\n",
      "50500/134063\n",
      "51000/134063\n",
      "51500/134063\n",
      "52000/134063\n",
      "52500/134063\n",
      "53000/134063\n",
      "53500/134063\n",
      "54000/134063\n",
      "54500/134063\n",
      "55000/134063\n",
      "55500/134063\n",
      "56000/134063\n",
      "56500/134063\n",
      "57000/134063\n",
      "57500/134063\n",
      "58000/134063\n",
      "58500/134063\n",
      "59000/134063\n",
      "59500/134063\n",
      "60000/134063\n",
      "60500/134063\n",
      "61000/134063\n",
      "61500/134063\n",
      "62000/134063\n",
      "62500/134063\n",
      "63000/134063\n",
      "63500/134063\n",
      "64000/134063\n",
      "64500/134063\n",
      "65000/134063\n",
      "65500/134063\n",
      "66000/134063\n",
      "66500/134063\n",
      "67000/134063\n",
      "67500/134063\n",
      "68000/134063\n",
      "68500/134063\n",
      "69000/134063\n",
      "69500/134063\n",
      "70000/134063\n",
      "70500/134063\n",
      "71000/134063\n",
      "71500/134063\n",
      "72000/134063\n",
      "72500/134063\n",
      "73000/134063\n",
      "73500/134063\n",
      "74000/134063\n",
      "74500/134063\n",
      "75000/134063\n",
      "75500/134063\n",
      "76000/134063\n",
      "76500/134063\n",
      "77000/134063\n",
      "77500/134063\n",
      "78000/134063\n",
      "78500/134063\n",
      "79000/134063\n",
      "79500/134063\n",
      "80000/134063\n",
      "80500/134063\n",
      "81000/134063\n",
      "81500/134063\n",
      "82000/134063\n",
      "82500/134063\n",
      "83000/134063\n",
      "83500/134063\n",
      "84000/134063\n",
      "84500/134063\n",
      "85000/134063\n",
      "85500/134063\n",
      "86000/134063\n",
      "86500/134063\n",
      "87000/134063\n",
      "87500/134063\n",
      "88000/134063\n",
      "88500/134063\n",
      "89000/134063\n",
      "89500/134063\n",
      "90000/134063\n",
      "90500/134063\n",
      "91000/134063\n",
      "91500/134063\n",
      "92000/134063\n",
      "92500/134063\n",
      "93000/134063\n",
      "93500/134063\n",
      "94000/134063\n",
      "94500/134063\n",
      "95000/134063\n",
      "95500/134063\n",
      "96000/134063\n",
      "96500/134063\n",
      "97000/134063\n",
      "97500/134063\n",
      "98000/134063\n",
      "98500/134063\n",
      "99000/134063\n",
      "99500/134063\n",
      "100000/134063\n",
      "100500/134063\n",
      "101000/134063\n",
      "101500/134063\n",
      "102000/134063\n",
      "102500/134063\n",
      "103000/134063\n",
      "103500/134063\n",
      "104000/134063\n",
      "104500/134063\n",
      "105000/134063\n",
      "105500/134063\n",
      "106000/134063\n",
      "106500/134063\n",
      "107000/134063\n",
      "107500/134063\n",
      "108000/134063\n",
      "108500/134063\n",
      "109000/134063\n",
      "109500/134063\n",
      "110000/134063\n",
      "110500/134063\n",
      "111000/134063\n",
      "111500/134063\n",
      "112000/134063\n",
      "112500/134063\n",
      "113000/134063\n",
      "113500/134063\n",
      "114000/134063\n",
      "114500/134063\n",
      "115000/134063\n",
      "115500/134063\n",
      "116000/134063\n",
      "116500/134063\n",
      "117000/134063\n",
      "117500/134063\n",
      "118000/134063\n",
      "118500/134063\n",
      "119000/134063\n",
      "119500/134063\n",
      "120000/134063\n",
      "120500/134063\n",
      "121000/134063\n",
      "121500/134063\n",
      "122000/134063\n",
      "122500/134063\n",
      "123000/134063\n",
      "123500/134063\n",
      "124000/134063\n",
      "124500/134063\n",
      "125000/134063\n",
      "125500/134063\n",
      "126000/134063\n",
      "126500/134063\n",
      "127000/134063\n",
      "127500/134063\n",
      "128000/134063\n",
      "128500/134063\n",
      "129000/134063\n",
      "129500/134063\n",
      "130000/134063\n",
      "130500/134063\n",
      "131000/134063\n",
      "131500/134063\n",
      "132000/134063\n",
      "132500/134063\n",
      "133000/134063\n",
      "133500/134063\n",
      "134000/134063\n"
     ]
    }
   ],
   "source": [
    "count = 1\n",
    "for h in df_train['hash'].unique():\n",
    "    if count % 500 == 0:\n",
    "        print('{}/{}'.format(count, size))\n",
    "\n",
    "    df_user = df_train[df_train['hash'] == h]\n",
    "    trajectory_id = df_user.iloc[-1]['trajectory_id']\n",
    "    df_user = df_user.drop(['hash', 'trajectory_id'], axis=1)\n",
    "\n",
    "    last_trajectory = df_user.iloc[[-1]].reset_index(drop=True)\n",
    "\n",
    "    target = last_trajectory['is_center_exit']\n",
    "    \n",
    "    ### Remove a posteriori information from last trajectory, because at the moment of prediction (in test set, for example), \n",
    "    ### there is no such data\n",
    "    last_trajectory = last_trajectory.drop(\n",
    "        [\n",
    "            'vmax', 'vmin', 'vmean', 'x_exit', 'y_exit', 'distance', 'is_center_exit', 'my_vmean',\n",
    "            'distance_center_exit', 'distance_boundary_center_exit', 'distance_center_point_exit',\n",
    "            'approach_center_point', 'approach_center'\n",
    "        ], axis=1)\n",
    "    last_trajectory.columns = last_trajectory.columns.map(lambda x: str(x) + '_last')\n",
    "\n",
    "    # CREATE AGGREGATE FEATURES\n",
    "    \n",
    "    last_trajectory['distance_mean'] = df_user.iloc[:-1]['distance'].mean()\n",
    "    last_trajectory['duration_mean'] = df_user.iloc[:-1]['duration'].mean()\n",
    "    last_trajectory['my_vmean_mean'] = df_user.iloc[:-1]['my_vmean'].mean()\n",
    "    last_trajectory['distance_estimated'] = last_trajectory['my_vmean_mean'] * last_trajectory['duration_mean']\n",
    "    last_trajectory['amount_trajectories'] = df_user.shape[0]\n",
    "\n",
    "    # FOR FEATURES IN DESCENDING ORDER\n",
    "\n",
    "    trajectories = [last_trajectory]\n",
    "\n",
    "    amount_trajectories = df_user.shape[0] - 1 - 1   # 1 by the last element and 1 by consider the zero\n",
    "    \n",
    "    # SELECT THE k LAST ONES TRAJECTORIES\n",
    "    j = k - 1\n",
    "    for i in range(amount_trajectories, max(amount_trajectories - k + 1, -1), -1):\n",
    "        aux = df_user.iloc[[i]]\n",
    "        aux.columns = aux.columns.map(lambda x: str(x) + '_' + str(j))\n",
    "        aux.reset_index(drop=True, inplace=True)\n",
    "        trajectories.append(aux)\n",
    "        j -= 1\n",
    "\n",
    "    row = pd.concat(trajectories, axis=1, ignore_index=False)\n",
    "\n",
    "    row['target'] = target\n",
    "    row['trajectory_id'] = trajectory_id\n",
    "    rows.append(row)\n",
    "\n",
    "    count += 1"
   ]
  },
  {
   "cell_type": "code",
   "execution_count": 34,
   "metadata": {},
   "outputs": [],
   "source": [
    "dataset = pd.concat(rows, sort=False)"
   ]
  },
  {
   "cell_type": "markdown",
   "metadata": {},
   "source": [
    "#### Clear the data"
   ]
  },
  {
   "cell_type": "code",
   "execution_count": 35,
   "metadata": {},
   "outputs": [
    {
     "data": {
      "text/html": [
       "<div>\n",
       "<style scoped>\n",
       "    .dataframe tbody tr th:only-of-type {\n",
       "        vertical-align: middle;\n",
       "    }\n",
       "\n",
       "    .dataframe tbody tr th {\n",
       "        vertical-align: top;\n",
       "    }\n",
       "\n",
       "    .dataframe thead th {\n",
       "        text-align: right;\n",
       "    }\n",
       "</style>\n",
       "<table border=\"1\" class=\"dataframe\">\n",
       "  <thead>\n",
       "    <tr style=\"text-align: right;\">\n",
       "      <th></th>\n",
       "      <th>x_entry_last</th>\n",
       "      <th>y_entry_last</th>\n",
       "      <th>is_center_entry_last</th>\n",
       "      <th>duration_last</th>\n",
       "      <th>time_entry_hour_last</th>\n",
       "      <th>time_entry_minute_last</th>\n",
       "      <th>time_exit_hour_last</th>\n",
       "      <th>time_exit_minute_last</th>\n",
       "      <th>distance_center_entry_last</th>\n",
       "      <th>distance_boundary_center_entry_last</th>\n",
       "      <th>...</th>\n",
       "      <th>approach_center_point_1</th>\n",
       "      <th>approach_center_1</th>\n",
       "      <th>night_entry_1</th>\n",
       "      <th>early morning_entry_1</th>\n",
       "      <th>morning_entry_1</th>\n",
       "      <th>afternoon_entry_1</th>\n",
       "      <th>night_exit_1</th>\n",
       "      <th>early morning_exit_1</th>\n",
       "      <th>morning_exit_1</th>\n",
       "      <th>afternoon_exit_1</th>\n",
       "    </tr>\n",
       "  </thead>\n",
       "  <tbody>\n",
       "    <tr>\n",
       "      <th>0</th>\n",
       "      <td>3.744945e+06</td>\n",
       "      <td>-1.928183e+07</td>\n",
       "      <td>0</td>\n",
       "      <td>16.033333</td>\n",
       "      <td>15</td>\n",
       "      <td>2</td>\n",
       "      <td>15</td>\n",
       "      <td>18</td>\n",
       "      <td>14234.591990</td>\n",
       "      <td>14234.591990</td>\n",
       "      <td>...</td>\n",
       "      <td>0.0</td>\n",
       "      <td>0.0</td>\n",
       "      <td>0.0</td>\n",
       "      <td>0.0</td>\n",
       "      <td>0.0</td>\n",
       "      <td>0.0</td>\n",
       "      <td>0.0</td>\n",
       "      <td>0.0</td>\n",
       "      <td>0.0</td>\n",
       "      <td>0.0</td>\n",
       "    </tr>\n",
       "    <tr>\n",
       "      <th>1</th>\n",
       "      <td>3.749088e+06</td>\n",
       "      <td>-1.926605e+07</td>\n",
       "      <td>0</td>\n",
       "      <td>29.266667</td>\n",
       "      <td>15</td>\n",
       "      <td>0</td>\n",
       "      <td>15</td>\n",
       "      <td>29</td>\n",
       "      <td>1813.564585</td>\n",
       "      <td>1813.564585</td>\n",
       "      <td>...</td>\n",
       "      <td>0.0</td>\n",
       "      <td>0.0</td>\n",
       "      <td>0.0</td>\n",
       "      <td>0.0</td>\n",
       "      <td>0.0</td>\n",
       "      <td>0.0</td>\n",
       "      <td>0.0</td>\n",
       "      <td>0.0</td>\n",
       "      <td>0.0</td>\n",
       "      <td>0.0</td>\n",
       "    </tr>\n",
       "    <tr>\n",
       "      <th>2</th>\n",
       "      <td>3.758738e+06</td>\n",
       "      <td>-1.937594e+07</td>\n",
       "      <td>0</td>\n",
       "      <td>45.266667</td>\n",
       "      <td>14</td>\n",
       "      <td>34</td>\n",
       "      <td>15</td>\n",
       "      <td>19</td>\n",
       "      <td>107034.585072</td>\n",
       "      <td>107034.585072</td>\n",
       "      <td>...</td>\n",
       "      <td>0.0</td>\n",
       "      <td>0.0</td>\n",
       "      <td>0.0</td>\n",
       "      <td>0.0</td>\n",
       "      <td>0.0</td>\n",
       "      <td>0.0</td>\n",
       "      <td>0.0</td>\n",
       "      <td>0.0</td>\n",
       "      <td>0.0</td>\n",
       "      <td>0.0</td>\n",
       "    </tr>\n",
       "    <tr>\n",
       "      <th>3</th>\n",
       "      <td>3.767866e+06</td>\n",
       "      <td>-1.917797e+07</td>\n",
       "      <td>0</td>\n",
       "      <td>0.000000</td>\n",
       "      <td>15</td>\n",
       "      <td>28</td>\n",
       "      <td>15</td>\n",
       "      <td>28</td>\n",
       "      <td>30940.232815</td>\n",
       "      <td>30940.232815</td>\n",
       "      <td>...</td>\n",
       "      <td>0.0</td>\n",
       "      <td>0.0</td>\n",
       "      <td>0.0</td>\n",
       "      <td>0.0</td>\n",
       "      <td>0.0</td>\n",
       "      <td>0.0</td>\n",
       "      <td>0.0</td>\n",
       "      <td>0.0</td>\n",
       "      <td>0.0</td>\n",
       "      <td>0.0</td>\n",
       "    </tr>\n",
       "    <tr>\n",
       "      <th>4</th>\n",
       "      <td>3.747641e+06</td>\n",
       "      <td>-1.922695e+07</td>\n",
       "      <td>0</td>\n",
       "      <td>0.000000</td>\n",
       "      <td>15</td>\n",
       "      <td>8</td>\n",
       "      <td>15</td>\n",
       "      <td>8</td>\n",
       "      <td>3260.717965</td>\n",
       "      <td>3260.717965</td>\n",
       "      <td>...</td>\n",
       "      <td>0.0</td>\n",
       "      <td>0.0</td>\n",
       "      <td>0.0</td>\n",
       "      <td>0.0</td>\n",
       "      <td>0.0</td>\n",
       "      <td>0.0</td>\n",
       "      <td>0.0</td>\n",
       "      <td>0.0</td>\n",
       "      <td>0.0</td>\n",
       "      <td>0.0</td>\n",
       "    </tr>\n",
       "  </tbody>\n",
       "</table>\n",
       "<p>5 rows × 634 columns</p>\n",
       "</div>"
      ],
      "text/plain": [
       "   x_entry_last  y_entry_last  is_center_entry_last  duration_last  \\\n",
       "0  3.744945e+06 -1.928183e+07                     0      16.033333   \n",
       "1  3.749088e+06 -1.926605e+07                     0      29.266667   \n",
       "2  3.758738e+06 -1.937594e+07                     0      45.266667   \n",
       "3  3.767866e+06 -1.917797e+07                     0       0.000000   \n",
       "4  3.747641e+06 -1.922695e+07                     0       0.000000   \n",
       "\n",
       "   time_entry_hour_last  time_entry_minute_last  time_exit_hour_last  \\\n",
       "0                    15                       2                   15   \n",
       "1                    15                       0                   15   \n",
       "2                    14                      34                   15   \n",
       "3                    15                      28                   15   \n",
       "4                    15                       8                   15   \n",
       "\n",
       "   time_exit_minute_last  distance_center_entry_last  \\\n",
       "0                     18                14234.591990   \n",
       "1                     29                 1813.564585   \n",
       "2                     19               107034.585072   \n",
       "3                     28                30940.232815   \n",
       "4                      8                 3260.717965   \n",
       "\n",
       "   distance_boundary_center_entry_last  ...  approach_center_point_1  \\\n",
       "0                         14234.591990  ...                      0.0   \n",
       "1                          1813.564585  ...                      0.0   \n",
       "2                        107034.585072  ...                      0.0   \n",
       "3                         30940.232815  ...                      0.0   \n",
       "4                          3260.717965  ...                      0.0   \n",
       "\n",
       "   approach_center_1  night_entry_1  early morning_entry_1  morning_entry_1  \\\n",
       "0                0.0            0.0                    0.0              0.0   \n",
       "1                0.0            0.0                    0.0              0.0   \n",
       "2                0.0            0.0                    0.0              0.0   \n",
       "3                0.0            0.0                    0.0              0.0   \n",
       "4                0.0            0.0                    0.0              0.0   \n",
       "\n",
       "   afternoon_entry_1  night_exit_1  early morning_exit_1  morning_exit_1  \\\n",
       "0                0.0           0.0                   0.0             0.0   \n",
       "1                0.0           0.0                   0.0             0.0   \n",
       "2                0.0           0.0                   0.0             0.0   \n",
       "3                0.0           0.0                   0.0             0.0   \n",
       "4                0.0           0.0                   0.0             0.0   \n",
       "\n",
       "   afternoon_exit_1  \n",
       "0               0.0  \n",
       "1               0.0  \n",
       "2               0.0  \n",
       "3               0.0  \n",
       "4               0.0  \n",
       "\n",
       "[5 rows x 634 columns]"
      ]
     },
     "execution_count": 35,
     "metadata": {},
     "output_type": "execute_result"
    }
   ],
   "source": [
    "dataset.fillna(0, inplace=True)\n",
    "dataset.reset_index(drop=True, inplace=True)\n",
    "dataset.head()"
   ]
  },
  {
   "cell_type": "markdown",
   "metadata": {},
   "source": [
    "### Save the data\n",
    "After generating the dataset, you can save it and explore the modeling phase. Saving the dataset you avoid the create the data again."
   ]
  },
  {
   "cell_type": "code",
   "execution_count": 36,
   "metadata": {},
   "outputs": [],
   "source": [
    "dataset.to_csv('data/processed/train_dataset_complete.csv', index=False)"
   ]
  },
  {
   "cell_type": "markdown",
   "metadata": {},
   "source": [
    "### Separate train and test set\n",
    "Now, each instance (row) is a hash. With this grain we can separate the train and test sets with common split.\n",
    "\n",
    "It is also possible to divide the sets before the transformation, but it is necessary separate by the hashes (attribute) and not by the lines."
   ]
  },
  {
   "cell_type": "code",
   "execution_count": 37,
   "metadata": {},
   "outputs": [],
   "source": [
    "train, test = train_test_split(dataset, test_size=0.3)"
   ]
  },
  {
   "cell_type": "markdown",
   "metadata": {},
   "source": [
    "### Separate features and targets"
   ]
  },
  {
   "cell_type": "code",
   "execution_count": 38,
   "metadata": {},
   "outputs": [],
   "source": [
    "X_train = train.drop(['target', 'trajectory_id'], axis=1)\n",
    "X_test = test.drop(['target', 'trajectory_id'], axis=1)\n",
    "\n",
    "y_train = train.loc[:, 'target'].copy()\n",
    "y_test = test.loc[:, 'target'].copy()"
   ]
  },
  {
   "cell_type": "markdown",
   "metadata": {},
   "source": [
    "### Modeling"
   ]
  },
  {
   "cell_type": "code",
   "execution_count": 39,
   "metadata": {},
   "outputs": [],
   "source": [
    "forest = RandomForestClassifier()"
   ]
  },
  {
   "cell_type": "code",
   "execution_count": 40,
   "metadata": {},
   "outputs": [
    {
     "name": "stderr",
     "output_type": "stream",
     "text": [
      "C:\\Users\\Milton\\Anaconda3\\lib\\site-packages\\sklearn\\ensemble\\forest.py:246: FutureWarning: The default value of n_estimators will change from 10 in version 0.20 to 100 in 0.22.\n",
      "  \"10 in version 0.20 to 100 in 0.22.\", FutureWarning)\n"
     ]
    },
    {
     "data": {
      "text/plain": [
       "RandomForestClassifier(bootstrap=True, class_weight=None, criterion='gini',\n",
       "            max_depth=None, max_features='auto', max_leaf_nodes=None,\n",
       "            min_impurity_decrease=0.0, min_impurity_split=None,\n",
       "            min_samples_leaf=1, min_samples_split=2,\n",
       "            min_weight_fraction_leaf=0.0, n_estimators=10, n_jobs=None,\n",
       "            oob_score=False, random_state=None, verbose=0,\n",
       "            warm_start=False)"
      ]
     },
     "execution_count": 40,
     "metadata": {},
     "output_type": "execute_result"
    }
   ],
   "source": [
    "forest.fit(X_train, y_train)"
   ]
  },
  {
   "cell_type": "code",
   "execution_count": 41,
   "metadata": {},
   "outputs": [],
   "source": [
    "pred = forest.predict(X_test)"
   ]
  },
  {
   "cell_type": "code",
   "execution_count": 42,
   "metadata": {},
   "outputs": [
    {
     "data": {
      "text/plain": [
       "0.8686045967326687"
      ]
     },
     "execution_count": 42,
     "metadata": {},
     "output_type": "execute_result"
    }
   ],
   "source": [
    "f1_score(y_test, pred)"
   ]
  },
  {
   "cell_type": "markdown",
   "metadata": {},
   "source": [
    "#### XGBoost (Extreme Gradient Boosting)"
   ]
  },
  {
   "cell_type": "code",
   "execution_count": 43,
   "metadata": {},
   "outputs": [],
   "source": [
    "# import\n",
    "from xgboost.sklearn import XGBClassifier"
   ]
  },
  {
   "cell_type": "code",
   "execution_count": 44,
   "metadata": {},
   "outputs": [
    {
     "data": {
      "text/plain": [
       "0.8887227181380568"
      ]
     },
     "execution_count": 44,
     "metadata": {},
     "output_type": "execute_result"
    }
   ],
   "source": [
    "model = XGBClassifier(n_jobs=-1, n_estimators=1000, learning_rate=0.05, max_depth=6, \n",
    "                      colsample_bytree=0.9, subsample=0.8, min_child_weight=4, reg_alpha=0.005)\n",
    "model.fit(X_train, y_train)\n",
    "\n",
    "pred = model.predict(X_test)\n",
    "f1_score(y_test, pred)"
   ]
  }
 ],
 "metadata": {
  "kernelspec": {
   "display_name": "Python 3",
   "language": "python",
   "name": "python3"
  },
  "language_info": {
   "codemirror_mode": {
    "name": "ipython",
    "version": 3
   },
   "file_extension": ".py",
   "mimetype": "text/x-python",
   "name": "python",
   "nbconvert_exporter": "python",
   "pygments_lexer": "ipython3",
   "version": "3.7.3"
  }
 },
 "nbformat": 4,
 "nbformat_minor": 2
}
